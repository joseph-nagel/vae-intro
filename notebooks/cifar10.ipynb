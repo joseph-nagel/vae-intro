{
 "cells": [
  {
   "cell_type": "markdown",
   "id": "613d12d6-e74d-4573-81d8-5a108db5cbc5",
   "metadata": {},
   "source": [
    "# Gaussian VAE for CIFAR-10\n",
    "\n",
    "This notebook showcases the application of a Gaussian-based VAE to the CIFAR-10 data set. Similar as in the slightly simpler MNIST example, a generative model can be trained by calling the main script with some suitable configs. For example: `python scripts/main.py fit --config config/cifar10.yaml`. After the training has been completed, the final model is imported and tested in the following."
   ]
  },
  {
   "cell_type": "code",
   "execution_count": null,
   "id": "5e244cfb",
   "metadata": {},
   "outputs": [],
   "source": [
    "%load_ext autoreload\n",
    "%autoreload 2\n",
    "%matplotlib inline\n",
    "\n",
    "import sys\n",
    "sys.path.append('..')"
   ]
  },
  {
   "cell_type": "code",
   "execution_count": null,
   "id": "9e781632",
   "metadata": {},
   "outputs": [],
   "source": [
    "import matplotlib.pyplot as plt\n",
    "import torch\n",
    "from lightning.pytorch import seed_everything\n",
    "\n",
    "from varautoenc import(\n",
    "    CIFAR10DataModule,\n",
    "    ConvVAE,\n",
    "    generate,\n",
    "    reconstruct,\n",
    "    encode_loader\n",
    ")"
   ]
  },
  {
   "cell_type": "code",
   "execution_count": null,
   "id": "de042609-7f8a-4acc-823d-40aacae1e658",
   "metadata": {},
   "outputs": [],
   "source": [
    "_ = seed_everything(111111) # set random seeds manually"
   ]
  },
  {
   "cell_type": "markdown",
   "id": "39048686",
   "metadata": {},
   "source": [
    "## CIFAR-10 data"
   ]
  },
  {
   "cell_type": "code",
   "execution_count": null,
   "id": "3fc9c9bc",
   "metadata": {},
   "outputs": [],
   "source": [
    "cifar = CIFAR10DataModule(data_dir='../run/data/', batch_size=32)\n",
    "\n",
    "cifar.prepare_data() # download data if not yet done\n",
    "cifar.setup(stage='test') # create test set"
   ]
  },
  {
   "cell_type": "code",
   "execution_count": null,
   "id": "ff961c05",
   "metadata": {},
   "outputs": [],
   "source": [
    "test_loader = cifar.test_dataloader()\n",
    "x_batch, y_batch = next(iter(test_loader))"
   ]
  },
  {
   "cell_type": "code",
   "execution_count": null,
   "id": "aa2ef4a6",
   "metadata": {},
   "outputs": [],
   "source": [
    "fig, axes = plt.subplots(nrows=3, ncols=4, figsize=(5, 4.5))\n",
    "for idx, ax in enumerate(axes.ravel()):\n",
    "    image = x_batch[idx].permute(1, 2, 0).numpy() / 2 + 0.5\n",
    "    ax.imshow(image)\n",
    "    ax.set_title(cifar.test_set.classes[y_batch[idx]])\n",
    "    ax.set(xticks=[], yticks=[], xlabel='', ylabel='')\n",
    "fig.tight_layout()"
   ]
  },
  {
   "cell_type": "markdown",
   "id": "baf7f214",
   "metadata": {},
   "source": [
    "## Model import"
   ]
  },
  {
   "cell_type": "code",
   "execution_count": null,
   "id": "54b8a56a-0680-4aa4-8888-c40b1de99227",
   "metadata": {},
   "outputs": [],
   "source": [
    "ckpt_file = '../run/cifar10/version_0/checkpoints/best.ckpt'\n",
    "\n",
    "device = torch.device('cuda:0' if torch.cuda.is_available() else 'cpu')\n",
    "\n",
    "vae = ConvVAE.load_from_checkpoint(ckpt_file)\n",
    "\n",
    "vae = vae.eval()\n",
    "vae = vae.to(device)"
   ]
  },
  {
   "cell_type": "code",
   "execution_count": null,
   "id": "6727c7c7-3d14-4416-8c26-512e654746d6",
   "metadata": {},
   "outputs": [],
   "source": [
    "sigma = vae.decoder.dist_params.logsigma.exp().item()\n",
    "print(f'Sigma: {sigma:.4f}')"
   ]
  },
  {
   "cell_type": "markdown",
   "id": "00ed3635-f4fe-4322-b498-3ec08f288adb",
   "metadata": {},
   "source": [
    "## Image reconstruction"
   ]
  },
  {
   "cell_type": "code",
   "execution_count": null,
   "id": "4987daff-ddc2-4328-8c6b-94e8853ffd94",
   "metadata": {},
   "outputs": [],
   "source": [
    "x_batch, _ = next(iter(test_loader))\n",
    "x_recon = reconstruct(vae, x_batch, sample_mode=False)"
   ]
  },
  {
   "cell_type": "code",
   "execution_count": null,
   "id": "100ae7ca",
   "metadata": {},
   "outputs": [],
   "source": [
    "fig, axes = plt.subplots(nrows=2, ncols=6, figsize=(8, 3.5))\n",
    "\n",
    "for idx, ax in enumerate(axes[0]):\n",
    "    image = x_batch[idx].permute(1, 2, 0).numpy() / 2 + 0.5\n",
    "    ax.imshow(image)\n",
    "    ax.set_title('$x^{{({})}}$'.format(idx + 1))\n",
    "    ax.set(xticks=[], yticks=[], xlabel='', ylabel='')\n",
    "\n",
    "for idx, ax in enumerate(axes[1]):\n",
    "    image = x_recon[idx].permute(1, 2, 0).numpy().clip(-1, 1) / 2 + 0.5\n",
    "    ax.imshow(image)\n",
    "    ax.set_title('$\\\\hat{{x}}^{{({})}}$'.format(idx + 1))\n",
    "    ax.set(xticks=[], yticks=[], xlabel='', ylabel='')\n",
    "\n",
    "fig.tight_layout()"
   ]
  },
  {
   "cell_type": "markdown",
   "id": "704bf145",
   "metadata": {},
   "source": [
    "## Random generation"
   ]
  },
  {
   "cell_type": "code",
   "execution_count": null,
   "id": "5bbf1bcb",
   "metadata": {},
   "outputs": [],
   "source": [
    "num_samples = 25\n",
    "\n",
    "num_latents = vae.decoder.dense_layers[0][0].in_features\n",
    "x_gen = generate(vae, sample_shape=(num_latents,), num_samples=num_samples)"
   ]
  },
  {
   "cell_type": "code",
   "execution_count": null,
   "id": "c4961917",
   "metadata": {},
   "outputs": [],
   "source": [
    "fig, axes = plt.subplots(nrows=5, ncols=5, figsize=(5, 5))\n",
    "for idx, ax in enumerate(axes.ravel()):\n",
    "    image = x_gen[idx].permute(1, 2, 0).numpy().clip(-1, 1) / 2 + 0.5\n",
    "    ax.imshow(image)\n",
    "    ax.set(xticks=[], yticks=[], xlabel='', ylabel='')\n",
    "fig.tight_layout()"
   ]
  }
 ],
 "metadata": {
  "kernelspec": {
   "display_name": "Python 3 (ipykernel)",
   "language": "python",
   "name": "python3"
  },
  "language_info": {
   "codemirror_mode": {
    "name": "ipython",
    "version": 3
   },
   "file_extension": ".py",
   "mimetype": "text/x-python",
   "name": "python",
   "nbconvert_exporter": "python",
   "pygments_lexer": "ipython3",
   "version": "3.11.5"
  }
 },
 "nbformat": 4,
 "nbformat_minor": 5
}
