{
 "cells": [
  {
   "cell_type": "markdown",
   "id": "613d12d6-e74d-4573-81d8-5a108db5cbc5",
   "metadata": {},
   "source": [
    "# Gaussian VAE for CIFAR-10\n",
    "\n",
    "This notebook showcases the application of a Gaussian-based VAE to the CIFAR-10 data set. Similar as in the slightly simpler MNIST example, a generative model can be trained by calling the main script with some suitable configs. For example: `python scripts/main.py fit --config config/cifar10.yaml`. After the training has been completed, the final model is imported and tested in the following."
   ]
  },
  {
   "cell_type": "code",
   "execution_count": null,
   "id": "5e244cfb",
   "metadata": {},
   "outputs": [],
   "source": [
    "%load_ext autoreload\n",
    "%autoreload 2\n",
    "%matplotlib inline"
   ]
  },
  {
   "cell_type": "code",
   "execution_count": null,
   "id": "9e781632",
   "metadata": {},
   "outputs": [],
   "source": [
    "import matplotlib.pyplot as plt\n",
    "import torch\n",
    "from lightning.pytorch import seed_everything\n",
    "\n",
    "from varautoenc import(\n",
    "    CIFAR10DataModule,\n",
    "    ConvVAE,\n",
    "    generate,\n",
    "    reconstruct,\n",
    "    encode_loader\n",
    ")"
   ]
  },
  {
   "cell_type": "code",
   "execution_count": null,
   "id": "de042609-7f8a-4acc-823d-40aacae1e658",
   "metadata": {},
   "outputs": [],
   "source": [
    "_ = seed_everything(111111)  # set random seeds manually"
   ]
  },
  {
   "cell_type": "markdown",
   "id": "39048686",
   "metadata": {},
   "source": [
    "## CIFAR-10 data"
   ]
  },
  {
   "cell_type": "code",
   "execution_count": null,
   "id": "3fc9c9bc",
   "metadata": {},
   "outputs": [],
   "source": [
    "cifar = CIFAR10DataModule(\n",
    "    data_dir='../run/data/',\n",
    "    mean=(0.5, 0.5, 0.5),\n",
    "    std=(0.5, 0.5, 0.5),\n",
    "    batch_size=32\n",
    ")\n",
    "\n",
    "cifar.prepare_data()  # download data if not yet done\n",
    "cifar.setup(stage='test')  # create test set"
   ]
  },
  {
   "cell_type": "code",
   "execution_count": null,
   "id": "ff961c05",
   "metadata": {},
   "outputs": [],
   "source": [
    "test_loader = cifar.test_dataloader()\n",
    "x_batch, y_batch = next(iter(test_loader))"
   ]
  },
  {
   "cell_type": "code",
   "execution_count": null,
   "id": "aa2ef4a6",
   "metadata": {},
   "outputs": [],
   "source": [
    "fig, axes = plt.subplots(nrows=3, ncols=4, figsize=(5, 4.5))\n",
    "for idx, ax in enumerate(axes.ravel()):\n",
    "    image = cifar.renormalize(x_batch[idx]).permute(1, 2, 0).numpy()\n",
    "    ax.imshow(image)\n",
    "    ax.set_title(cifar.test_set.classes[y_batch[idx]])\n",
    "    ax.set(xticks=[], yticks=[], xlabel='', ylabel='')\n",
    "fig.tight_layout()"
   ]
  },
  {
   "cell_type": "markdown",
   "id": "baf7f214",
   "metadata": {},
   "source": [
    "## Model import"
   ]
  },
  {
   "cell_type": "code",
   "execution_count": null,
   "id": "54b8a56a-0680-4aa4-8888-c40b1de99227",
   "metadata": {},
   "outputs": [],
   "source": [
    "ckpt_file = '../run/cifar10/version_0/checkpoints/last.ckpt'\n",
    "\n",
    "device = torch.device('cuda:0' if torch.cuda.is_available() else 'cpu')\n",
    "\n",
    "vae = ConvVAE.load_from_checkpoint(ckpt_file)\n",
    "\n",
    "vae = vae.eval()\n",
    "vae = vae.to(device)"
   ]
  },
  {
   "cell_type": "code",
   "execution_count": null,
   "id": "6727c7c7-3d14-4416-8c26-512e654746d6",
   "metadata": {},
   "outputs": [],
   "source": [
    "print(f'Likelihood: {vae.likelihood_type}')\n",
    "print(f'Beta: {vae.beta}')\n",
    "\n",
    "try:\n",
    "    sigma = vae.decoder.dist_params.logsigma.exp().item()\n",
    "    print(f'Sigma: {sigma:.4f}')\n",
    "except AttributeError as e:\n",
    "    pass"
   ]
  },
  {
   "cell_type": "markdown",
   "id": "16e9e56a-3b8f-4a67-b178-85fdabf36fca",
   "metadata": {},
   "source": [
    "## Latent space"
   ]
  },
  {
   "cell_type": "code",
   "execution_count": null,
   "id": "8eedd9c1-046d-4050-96d3-243d490d4d1e",
   "metadata": {},
   "outputs": [],
   "source": [
    "z_mu, z_sigma = encode_loader(\n",
    "    vae, test_loader\n",
    ")\n",
    "\n",
    "print('Latent mean: {:.2f}'.format(z_mu.mean()))\n",
    "print('Latent std.: {:.2f}'.format(z_mu.std()))"
   ]
  },
  {
   "cell_type": "markdown",
   "id": "00ed3635-f4fe-4322-b498-3ec08f288adb",
   "metadata": {},
   "source": [
    "## Image reconstruction"
   ]
  },
  {
   "cell_type": "code",
   "execution_count": null,
   "id": "4987daff-ddc2-4328-8c6b-94e8853ffd94",
   "metadata": {},
   "outputs": [],
   "source": [
    "x_batch, _ = next(iter(test_loader))\n",
    "\n",
    "x_recon = reconstruct(vae, x_batch, sample_mode=False)#\n",
    "x_recon = x_recon.clamp(-1, 1)"
   ]
  },
  {
   "cell_type": "code",
   "execution_count": null,
   "id": "100ae7ca",
   "metadata": {},
   "outputs": [],
   "source": [
    "fig, axes = plt.subplots(nrows=2, ncols=6, figsize=(8, 3.5))\n",
    "\n",
    "for idx, ax in enumerate(axes[0]):\n",
    "    image = cifar.renormalize(x_batch[idx]).permute(1, 2, 0).numpy()\n",
    "    ax.imshow(image)\n",
    "    ax.set_title('$x^{{({})}}$'.format(idx + 1))\n",
    "    ax.set(xticks=[], yticks=[], xlabel='', ylabel='')\n",
    "\n",
    "for idx, ax in enumerate(axes[1]):\n",
    "    image = cifar.renormalize(x_recon[idx]).permute(1, 2, 0).numpy()\n",
    "    ax.imshow(image)\n",
    "    ax.set_title('$\\\\hat{{x}}^{{({})}}$'.format(idx + 1))\n",
    "    ax.set(xticks=[], yticks=[], xlabel='', ylabel='')\n",
    "\n",
    "fig.tight_layout()"
   ]
  },
  {
   "cell_type": "markdown",
   "id": "704bf145",
   "metadata": {},
   "source": [
    "## Random generation"
   ]
  },
  {
   "cell_type": "code",
   "execution_count": null,
   "id": "5bbf1bcb",
   "metadata": {},
   "outputs": [],
   "source": [
    "num_samples = 25\n",
    "\n",
    "num_latents = vae.decoder.dense_layers[0][0].in_features\n",
    "x_gen = generate(vae, sample_shape=(num_latents,), num_samples=num_samples)\n",
    "x_gen = x_gen.clamp(-1, 1)"
   ]
  },
  {
   "cell_type": "code",
   "execution_count": null,
   "id": "c4961917",
   "metadata": {},
   "outputs": [],
   "source": [
    "fig, axes = plt.subplots(nrows=5, ncols=5, figsize=(5, 5))\n",
    "for idx, ax in enumerate(axes.ravel()):\n",
    "    image = cifar.renormalize(x_gen[idx]).permute(1, 2, 0).numpy()\n",
    "    ax.imshow(image)\n",
    "    ax.set(xticks=[], yticks=[], xlabel='', ylabel='')\n",
    "fig.tight_layout()"
   ]
  }
 ],
 "metadata": {
  "kernelspec": {
   "display_name": "torch",
   "language": "python",
   "name": "python3"
  },
  "language_info": {
   "codemirror_mode": {
    "name": "ipython",
    "version": 3
   },
   "file_extension": ".py",
   "mimetype": "text/x-python",
   "name": "python",
   "nbconvert_exporter": "python",
   "pygments_lexer": "ipython3",
   "version": "3.12.9"
  }
 },
 "nbformat": 4,
 "nbformat_minor": 5
}
